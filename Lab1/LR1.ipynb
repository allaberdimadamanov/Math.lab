{
 "cells": [
  {
   "cell_type": "code",
   "execution_count": 37,
   "metadata": {},
   "outputs": [],
   "source": [
    "def caesar():\n",
    "\n",
    "    letters = 'ABCDEFGHIJKLMNOPQRSTUVWXYZABCDEFGHIJKLMNOPQRSTUVWXYZ'\n",
    "    step = 5\n",
    "    text = input(\"Шифрование Цезаря\")\n",
    "    result = ''\n",
    "\n",
    "    for i in text:\n",
    "        ind = letters.find(i)\n",
    "        newind = ind + step\n",
    "        if i in letters:\n",
    "            result += letters[newind]\n",
    "        else:\n",
    "            result += i\n",
    "    print(result)"
   ]
  },
  {
   "cell_type": "code",
   "execution_count": 38,
   "metadata": {},
   "outputs": [],
   "source": [
    "def caesar_deshifr():\n",
    "    letters = 'ABCDEFGHIJKLMNOPQRSTUVWXYZABCDEFGHIJKLMNOPQRSTUVWXYZ'\n",
    "    smeshenie = 5\n",
    "    text = input(\"Дешифровка Цезаря\")\n",
    "    result = ''\n",
    "\n",
    "    for i in text:\n",
    "        ind = letters.find(i)\n",
    "        newind = ind - smeshenie\n",
    "        if i in letters:\n",
    "            result += letters[newind]\n",
    "        else:\n",
    "            result += i\n",
    "    print(result)"
   ]
  },
  {
   "cell_type": "code",
   "execution_count": 39,
   "metadata": {},
   "outputs": [],
   "source": [
    "def atbash():\n",
    "\n",
    "    letters = [chr(x) for x in range(65, 91)]\n",
    "    letters_r = [x for x in letters]\n",
    "    letters_r.reverse()\n",
    "\n",
    "    text = input(\"Шифрование Атбаша\")\n",
    "    result = \"\"\n",
    "\n",
    "    for i in text:\n",
    "        for j,l in enumerate(letters):\n",
    "            if i == l:\n",
    "                result += letters_r[j]\n",
    "    print(result)"
   ]
  },
  {
   "cell_type": "code",
   "execution_count": 40,
   "metadata": {},
   "outputs": [],
   "source": [
    "def atbash_desh():\n",
    "    letters = [chr(x) for x in range(65, 91)]\n",
    "    letters_r = [x for x in letters]\n",
    "    letters_r.reverse()\n",
    "\n",
    "    text = input(\"Дешивровка Атбаша\")\n",
    "    result = \"\"\n",
    "    for i in text:\n",
    "        for j, l in enumerate(letters_r):\n",
    "            if i == l:\n",
    "                result += letters[j]\n",
    "    print(result)"
   ]
  },
  {
   "cell_type": "code",
   "execution_count": 41,
   "metadata": {},
   "outputs": [],
   "source": [
    "def main():\n",
    "    caesar()\n",
    "    caesar_deshifr()\n",
    "    atbash()\n",
    "    atbash_desh()\n"
   ]
  },
  {
   "cell_type": "code",
   "execution_count": 42,
   "metadata": {},
   "outputs": [
    {
     "name": "stdout",
     "output_type": "stream",
     "text": [
      "MJQQT\n",
      "HELLO\n",
      "DLIOW\n",
      "WORLD\n"
     ]
    }
   ],
   "source": [
    "if __name__ == \"__main__\":\n",
    "    main()"
   ]
  },
  {
   "cell_type": "code",
   "execution_count": null,
   "metadata": {},
   "outputs": [],
   "source": []
  }
 ],
 "metadata": {
  "kernelspec": {
   "display_name": "Python 3",
   "language": "python",
   "name": "python3"
  },
  "language_info": {
   "codemirror_mode": {
    "name": "ipython",
    "version": 3
   },
   "file_extension": ".py",
   "mimetype": "text/x-python",
   "name": "python",
   "nbconvert_exporter": "python",
   "pygments_lexer": "ipython3",
   "version": "3.9.13"
  }
 },
 "nbformat": 4,
 "nbformat_minor": 4
}
