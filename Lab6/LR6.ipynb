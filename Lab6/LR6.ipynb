{
 "cells": [
  {
   "cell_type": "code",
   "execution_count": 1,
   "metadata": {},
   "outputs": [],
   "source": [
    "from math import gcd\n",
    "\n",
    "ag = 1\n",
    "bg = 1\n",
    "\n",
    "def f(x, n):\n",
    "    return (x*x+5)%n\n",
    "\n",
    "def fu(n,a, b, d):\n",
    "    a = f(a, n) % n\n",
    "    b = f(f(b, n), n) %n\n",
    "    d = gcd(a-b, n)\n",
    "    if 1<d<n:\n",
    "        p = d\n",
    "        print(p)\n",
    "        exit()\n",
    "    if d == n:\n",
    "        print(\"Не найдено\")\n",
    "    if d == 1:\n",
    "        global ag\n",
    "        ag = b\n",
    "        fu(n, a, b, d)\n",
    "\n",
    "\n",
    "def main():\n",
    "    n = 1359331\n",
    "    c = 1\n",
    "    a = c\n",
    "    b = c\n",
    "    a = f(a, n) % n\n",
    "    b = f(a,n) % n\n",
    "    d = gcd(a-b, n)\n",
    "    if 1<d<n:\n",
    "        p = d\n",
    "        print(p)\n",
    "        exit()\n",
    "    if d == n:\n",
    "        pass\n",
    "    if d == 1:\n",
    "        fu(n, a, b, d)"
   ]
  },
  {
   "cell_type": "code",
   "execution_count": 2,
   "metadata": {},
   "outputs": [
    {
     "name": "stdout",
     "output_type": "stream",
     "text": [
      "1181\n"
     ]
    },
    {
     "ename": "",
     "evalue": "",
     "output_type": "error",
     "traceback": [
      "\u001b[1;31mПри выполнении кода в текущей ячейке или предыдущей ячейке ядро аварийно завершило работу. \n",
      "\u001b[1;31mПроверьте код в ячейках, чтобы определить возможную причину сбоя. \n",
      "\u001b[1;31mЩелкните <a href='https://aka.ms/vscodeJupyterKernelCrash'>здесь</a>, чтобы получить дополнительные сведения. \n",
      "\u001b[1;31mПодробнее см. в <a href='command:jupyter.viewOutput'>журнале Jupyter</a>."
     ]
    }
   ],
   "source": [
    "main()"
   ]
  },
  {
   "cell_type": "code",
   "execution_count": null,
   "metadata": {},
   "outputs": [],
   "source": []
  }
 ],
 "metadata": {
  "kernelspec": {
   "display_name": "Python 3",
   "language": "python",
   "name": "python3"
  },
  "language_info": {
   "codemirror_mode": {
    "name": "ipython",
    "version": 3
   },
   "file_extension": ".py",
   "mimetype": "text/x-python",
   "name": "python",
   "nbconvert_exporter": "python",
   "pygments_lexer": "ipython3",
   "version": "3.9.13"
  }
 },
 "nbformat": 4,
 "nbformat_minor": 4
}
